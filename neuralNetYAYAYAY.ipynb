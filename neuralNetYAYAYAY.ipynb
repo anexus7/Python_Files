{
 "cells": [
  {
   "cell_type": "markdown",
   "metadata": {},
   "source": [
    "# neural net yayy"
   ]
  },
  {
   "cell_type": "markdown",
   "metadata": {},
   "source": [
    "### importing should be done at the start\n"
   ]
  },
  {
   "cell_type": "code",
   "execution_count": 3,
   "metadata": {
    "collapsed": true
   },
   "outputs": [],
   "source": [
    "%matplotlib inline\n",
    "import numpy as np\n",
    "import matplotlib.pyplot as plt\n"
   ]
  },
  {
   "cell_type": "code",
   "execution_count": 203,
   "metadata": {
    "collapsed": false
   },
   "outputs": [],
   "source": [
    "\n",
    "def sigmoid(a):\n",
    "    return (1/(1+np.exp(-1*a)))\n",
    "\n",
    "def dersig(a):\n",
    "    return np.exp(-a)/((1+np.exp(-a))**2)\n",
    "\n",
    "class Ann(object):\n",
    "    def __init__(self):\n",
    "        \n",
    "        self.a1_size=2\n",
    "        self.hidden_size=3\n",
    "        self.h_size=1\n",
    "        \n",
    "        self.theta1=np.random.rand(self.a1_size,self.hidden_size)\n",
    "        self.theta2=np.random.rand(self.hidden_size,self.h_size)\n",
    "\n",
    "\n",
    "    def fwd(self,X):\n",
    "        self.z2 = np.dot(X , self.theta1)\n",
    "        self.hidden = sigmoid(self.z2)\n",
    "        \n",
    "        self.z3=np.dot(self.hidden,self.theta2)\n",
    "        self.h= sigmoid(self.z3)\n",
    "        \n",
    "        return self.h\n",
    "    \n",
    "    def J(self,X,y):\n",
    "        return sum((y-self.fwd(X))**2)*0.5\n",
    "    \n",
    "        \n",
    "    def dJdt(self,X,y):\n",
    "        self.h=self.fwd(X)\n",
    "        \n",
    "        delta3 = np.multiply(-(y-self.h),dersig(self.z3))\n",
    "        self.dJdT2=np.dot(self.hidden.T , delta3)\n",
    "        \n",
    "        delta2=np.dot(delta3,self.theta2.T)*dersig(self.z2)\n",
    "        self.dJdT1 = X.T.dot(delta2)\n",
    "        \n",
    "        return self.dJdT1 , self.dJdT2\n",
    "    \n",
    "    def batchGradd(self,X,y,alpha,t):\n",
    "        self.jhistory=[]\n",
    "        self.thistory=[]\n",
    "        for i in range (0,t):\n",
    "            djdt1 , djdt2 = self.dJdt(X,y)\n",
    "            self.theta1=self.theta1-alpha*djdt1\n",
    "            self.theta2=self.theta2-alpha*djdt2\n",
    "            self.thistory.append(t)\n",
    "            self.jhistory.append(self.J(X,y))\n",
    "            \n",
    "        plt.plot(self.thistory,self.jhistory)\n",
    "        plt.legend('cost')\n",
    "            "
   ]
  },
  {
   "cell_type": "code",
   "execution_count": 204,
   "metadata": {
    "collapsed": false
   },
   "outputs": [
    {
     "name": "stdout",
     "output_type": "stream",
     "text": [
      "x is \n",
      " [[1 2]\n",
      " [3 4]\n",
      " [5 6]\n",
      " [7 8]]\n",
      "\n",
      " and y is \n",
      " [[ 3]\n",
      " [ 7]\n",
      " [11]\n",
      " [15]]\n"
     ]
    }
   ],
   "source": [
    "x=np.array([[1,2],[3,4],[5,6],[7,8]])\n",
    "print(\"x is \\n\",x)\n",
    "\n",
    "y=np.array([3,7,11,15]).reshape(4,1)\n",
    "print(\"\\n and y is \\n\",y)"
   ]
  },
  {
   "cell_type": "code",
   "execution_count": 205,
   "metadata": {
    "collapsed": false
   },
   "outputs": [
    {
     "name": "stdout",
     "output_type": "stream",
     "text": [
      "initially our weihts w1 and w2 are\n",
      " [[ 0.70514886  0.00771293  0.02177061]\n",
      " [ 0.00659925  0.48586097  0.57028156]] \n",
      "\n",
      " [[ 0.00888099]\n",
      " [ 0.35913531]\n",
      " [ 0.05191903]]\n",
      "initially our predictions are\n",
      " [[ 0.57605754]\n",
      " [ 0.59155097]\n",
      " [ 0.59878729]\n",
      " [ 0.60170362]]\n",
      "initially cost function is \n",
      " [ 181.21994018] \n",
      "\n",
      "initially our gradients are\n",
      "\n",
      "[[-0.00944863 -0.59539799 -0.05377875]\n",
      " [-0.01269996 -0.76291805 -0.07092925]] \n",
      "\n",
      "[[-7.64096224]\n",
      " [-7.54850703]\n",
      " [-7.71176363]]\n",
      "finally our weihts w1 and w2 are\n",
      " [[ 0.79963517  5.96169282  0.55955809]\n",
      " [ 0.13359885  8.11504145  1.2795741 ]] \n",
      "\n",
      " [[ 76.4185034 ]\n",
      " [ 75.8442056 ]\n",
      " [ 77.16955535]]\n",
      "finally our predictions are\n",
      " [[ 1.]\n",
      " [ 1.]\n",
      " [ 1.]\n",
      " [ 1.]]\n",
      "finally cost function is \n",
      " [ 168.] \n",
      "\n",
      "finally our gradients are\n",
      "\n",
      "[[ -5.47403831e-89  -6.56820291e-98  -1.17684605e-89]\n",
      " [ -1.09480766e-88  -1.31364058e-97  -2.35369209e-89]] \n",
      "\n",
      "[[ -2.79807544e-90]\n",
      " [ -3.76088363e-90]\n",
      " [ -3.60163955e-90]]\n"
     ]
    },
    {
     "data": {
      "image/png": "[encoded data removed]",
      "text/plain": [
       "<matplotlib.figure.Figure at 0x2d85d7e91d0>"
      ]
     },
     "metadata": {},
     "output_type": "display_data"
    }
   ],
   "source": [
    "ann1 = Ann()\n",
    "\n",
    "h=ann1.fwd(x)\n",
    "\n",
    "print(\"initially our weihts w1 and w2 are\\n\",ann1.theta1, '\\n\\n' ,ann1.theta2)\n",
    "\n",
    "print(\"initially our predictions are\\n\",h)\n",
    "\n",
    "print('initially cost function is \\n',ann1.J(x,y),'\\n')\n",
    "\n",
    "dJdT1 , dJdT2 = ann1.dJdt(x,y)\n",
    "print(\"initially our gradients are\\n\")\n",
    "print(dJdT1,\"\\n\")\n",
    "print(dJdT2)\n",
    "\n",
    "ann1.batchGradd(x,y,10,100000)\n",
    "\n",
    "h=ann1.fwd(x)\n",
    "\n",
    "print(\"finally our weihts w1 and w2 are\\n\",ann1.theta1, '\\n\\n' ,ann1.theta2)\n",
    "\n",
    "print(\"finally our predictions are\\n\",h)\n",
    "\n",
    "print('finally cost function is \\n',ann1.J(x,y),'\\n')\n",
    "\n",
    "dJdT1 , dJdT2 = ann1.dJdt(x,y)\n",
    "print(\"finally our gradients are\\n\")\n",
    "print(dJdT1,\"\\n\")\n",
    "print(dJdT2)\n",
    "\n",
    "\n"
   ]
  },
  {
   "cell_type": "code",
   "execution_count": null,
   "metadata": {
    "collapsed": true
   },
   "outputs": [],
   "source": []
  },
  {
   "cell_type": "code",
   "execution_count": null,
   "metadata": {
    "collapsed": true
   },
   "outputs": [],
   "source": []
  }
 ],
 "metadata": {
  "kernelspec": {
   "display_name": "Python 3",
   "language": "python",
   "name": "python3"
  },
  "language_info": {
   "codemirror_mode": {
    "name": "ipython",
    "version": 3
   },
   "file_extension": ".py",
   "mimetype": "text/x-python",
   "name": "python",
   "nbconvert_exporter": "python",
   "pygments_lexer": "ipython3",
   "version": "3.5.1"
  }
 },
 "nbformat": 4,
 "nbformat_minor": 2
}
